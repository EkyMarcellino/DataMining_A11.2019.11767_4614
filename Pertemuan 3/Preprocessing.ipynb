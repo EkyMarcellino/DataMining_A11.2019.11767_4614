{
  "nbformat": 4,
  "nbformat_minor": 0,
  "metadata": {
    "colab": {
      "name": "Preprocessing.ipynb",
      "provenance": [],
      "collapsed_sections": []
    },
    "kernelspec": {
      "name": "python3",
      "display_name": "Python 3"
    },
    "language_info": {
      "name": "python"
    }
  },
  "cells": [
    {
      "cell_type": "code",
      "execution_count": 1,
      "metadata": {
        "id": "YHgsvZpA0Nso"
      },
      "outputs": [],
      "source": [
        "import numpy as np\n",
        "import matplotlib.pyplot as plt\n",
        "import pandas as pd"
      ]
    },
    {
      "cell_type": "markdown",
      "source": [
        "BERIKUT ADALAH PRAKTEK PENGGUNAAN NUMPY DAN MATPLOTLIB YANG DIKERJAKAN OLEH EKY MARCELLINO (A11.2019.11767)"
      ],
      "metadata": {
        "id": "aq2Bpd771a7l"
      }
    },
    {
      "cell_type": "code",
      "source": [
        "dataset = pd.read_csv('DataBaru.csv')\n",
        "x = dataset.iloc[:,:-1].values\n",
        "y = dataset.iloc[:, -1].values"
      ],
      "metadata": {
        "id": "OqoZ12_H1lhO"
      },
      "execution_count": 2,
      "outputs": []
    },
    {
      "cell_type": "code",
      "source": [
        "print(x)"
      ],
      "metadata": {
        "colab": {
          "base_uri": "https://localhost:8080/"
        },
        "id": "rO3QMv9T1vlR",
        "outputId": "3d5e6f8a-c026-4a80-a35b-4965703d1ab6"
      },
      "execution_count": 3,
      "outputs": [
        {
          "output_type": "stream",
          "name": "stdout",
          "text": [
            "[['Gajahmungkur' 12.0 2500000.0]\n",
            " ['Tembalang' 10.0 2000000.0]\n",
            " ['Bawen' nan 4500000.0]\n",
            " ['Candisari' 10.0 5000000.0]\n",
            " ['Genuk' 15.0 2500000.0]\n",
            " ['Majapahit' 13.0 2000000.0]\n",
            " ['Tlogosari' 8.0 3000000.0]\n",
            " ['Marina' 12.0 3000000.0]\n",
            " ['Kaligarang' 10.0 nan]\n",
            " ['Veteran' 13.0 3000000.0]]\n"
          ]
        }
      ]
    },
    {
      "cell_type": "code",
      "source": [
        "print(y)"
      ],
      "metadata": {
        "colab": {
          "base_uri": "https://localhost:8080/"
        },
        "id": "XE9V36BT1zSg",
        "outputId": "eca36f35-a1c8-44f8-9087-f2113603981a"
      },
      "execution_count": 4,
      "outputs": [
        {
          "output_type": "stream",
          "name": "stdout",
          "text": [
            "['No' 'Yes' 'Yes' 'Yes' 'Yes' 'No' 'Yes' 'No' 'No' 'Yes']\n"
          ]
        }
      ]
    },
    {
      "cell_type": "code",
      "source": [
        "from sklearn.impute import SimpleImputer\n",
        "imputer = SimpleImputer(missing_values=np.nan, strategy='mean') \n",
        "imputer. fit(x[:, 1:3])\n",
        "x[:, 1:3]= imputer.transform(x[:, 1:3])"
      ],
      "metadata": {
        "id": "0ZkahjKu2XIx"
      },
      "execution_count": 5,
      "outputs": []
    },
    {
      "cell_type": "code",
      "source": [
        "print(x)"
      ],
      "metadata": {
        "colab": {
          "base_uri": "https://localhost:8080/"
        },
        "id": "XahMxEuj2dwP",
        "outputId": "0ea5bc1c-5489-4fa3-ca5c-c8b9ad2880fc"
      },
      "execution_count": 6,
      "outputs": [
        {
          "output_type": "stream",
          "name": "stdout",
          "text": [
            "[['Gajahmungkur' 12.0 2500000.0]\n",
            " ['Tembalang' 10.0 2000000.0]\n",
            " ['Bawen' 11.444444444444445 4500000.0]\n",
            " ['Candisari' 10.0 5000000.0]\n",
            " ['Genuk' 15.0 2500000.0]\n",
            " ['Majapahit' 13.0 2000000.0]\n",
            " ['Tlogosari' 8.0 3000000.0]\n",
            " ['Marina' 12.0 3000000.0]\n",
            " ['Kaligarang' 10.0 3055555.5555555555]\n",
            " ['Veteran' 13.0 3000000.0]]\n"
          ]
        }
      ]
    },
    {
      "cell_type": "code",
      "source": [
        "from sklearn.compose import ColumnTransformer\n",
        "from sklearn.preprocessing import OneHotEncoder\n",
        "ct = ColumnTransformer(transformers=[('encoder',OneHotEncoder(),[0])], remainder='passthrough')\n",
        "x = np.array(ct.fit_transform(x))"
      ],
      "metadata": {
        "id": "ajV717DN2h5p"
      },
      "execution_count": 7,
      "outputs": []
    },
    {
      "cell_type": "code",
      "source": [
        "print(x)"
      ],
      "metadata": {
        "colab": {
          "base_uri": "https://localhost:8080/"
        },
        "id": "gP-JfVxu2rby",
        "outputId": "cc51985e-4014-459d-9a02-d7ebeb0bcd1e"
      },
      "execution_count": 8,
      "outputs": [
        {
          "output_type": "stream",
          "name": "stdout",
          "text": [
            "  (0, 2)\t1.0\n",
            "  (0, 10)\t12.0\n",
            "  (0, 11)\t2500000.0\n",
            "  (1, 7)\t1.0\n",
            "  (1, 10)\t10.0\n",
            "  (1, 11)\t2000000.0\n",
            "  (2, 0)\t1.0\n",
            "  (2, 10)\t11.444444444444445\n",
            "  (2, 11)\t4500000.0\n",
            "  (3, 1)\t1.0\n",
            "  (3, 10)\t10.0\n",
            "  (3, 11)\t5000000.0\n",
            "  (4, 3)\t1.0\n",
            "  (4, 10)\t15.0\n",
            "  (4, 11)\t2500000.0\n",
            "  (5, 5)\t1.0\n",
            "  (5, 10)\t13.0\n",
            "  (5, 11)\t2000000.0\n",
            "  (6, 8)\t1.0\n",
            "  (6, 10)\t8.0\n",
            "  (6, 11)\t3000000.0\n",
            "  (7, 6)\t1.0\n",
            "  (7, 10)\t12.0\n",
            "  (7, 11)\t3000000.0\n",
            "  (8, 4)\t1.0\n",
            "  (8, 10)\t10.0\n",
            "  (8, 11)\t3055555.5555555555\n",
            "  (9, 9)\t1.0\n",
            "  (9, 10)\t13.0\n",
            "  (9, 11)\t3000000.0\n"
          ]
        }
      ]
    },
    {
      "cell_type": "code",
      "source": [
        "from sklearn.preprocessing import LabelEncoder \n",
        "le = LabelEncoder()\n",
        "y = le.fit_transform(y)"
      ],
      "metadata": {
        "id": "-H6QX2W52wCz"
      },
      "execution_count": 9,
      "outputs": []
    },
    {
      "cell_type": "code",
      "source": [
        "print(y)"
      ],
      "metadata": {
        "colab": {
          "base_uri": "https://localhost:8080/"
        },
        "id": "v0eolO_x2x9I",
        "outputId": "38b89431-da10-40e1-83a0-2038fc321ad9"
      },
      "execution_count": 10,
      "outputs": [
        {
          "output_type": "stream",
          "name": "stdout",
          "text": [
            "[0 1 1 1 1 0 1 0 0 1]\n"
          ]
        }
      ]
    }
  ]
}